{
 "cells": [
  {
   "cell_type": "markdown",
   "metadata": {},
   "source": [
    "순서\n",
    "1. import\n",
    "2. Dataset 만들기\n",
    "3. Model 만들기\n",
    "4. Optim과 loss 계산 함수 결정하기\n",
    "5. 학습을 위한 반복문 작성하기\n",
    "6. 평가 및 모델 저장"
   ]
  },
  {
   "cell_type": "code",
   "execution_count": null,
   "metadata": {},
   "outputs": [],
   "source": []
  }
 ],
 "metadata": {
  "kernelspec": {
   "display_name": "aiffel",
   "language": "python",
   "name": "aiffel"
  },
  "language_info": {
   "codemirror_mode": {
    "name": "ipython",
    "version": 3
   },
   "file_extension": ".py",
   "mimetype": "text/x-python",
   "name": "python",
   "nbconvert_exporter": "python",
   "pygments_lexer": "ipython3",
   "version": "3.8.5"
  }
 },
 "nbformat": 4,
 "nbformat_minor": 4
}
