{
 "cells": [
  {
   "cell_type": "code",
   "execution_count": 1,
   "metadata": {},
   "outputs": [],
   "source": [
    "import glob\n",
    "import os\n",
    "import re"
   ]
  },
  {
   "cell_type": "code",
   "execution_count": 2,
   "metadata": {},
   "outputs": [
    {
     "data": {
      "text/plain": [
       "['./result_file/random_1/fixmatch-nl25-m2-b8-r1-th0.95-lb0.75-sc:step.txt',\n",
       " './result_file/random_1/fixmatch-nl25-m2-b8-r1-th0.95-lb1.0-sc:step.txt',\n",
       " './result_file/random_1/fixmatch-nl25-m2-b8-r1-th0.98-lb0.5-sc:step.txt',\n",
       " './result_file/random_1/fixmatch-nl25-m2-b8-r1-th0.98-lb1.0-sc:step.txt',\n",
       " './result_file/random_1/baseline-nl25-m2-b8-r1-th1.0-lb1.0-sc:step.txt',\n",
       " './result_file/random_1/fixmatch-nl25-m2-b8-r1-th0.95-lb0.5-sc:step.txt',\n",
       " './result_file/random_1/fixmatch-nl25-m2-b8-r1-th0.98-lb0.75-sc:step.txt']"
      ]
     },
     "execution_count": 2,
     "metadata": {},
     "output_type": "execute_result"
    }
   ],
   "source": [
    "p = re.compile('0[.]\\d{4}\\s\\D{2}0[.]\\d{2}\\D') #[0.숫자4개 +띄어쓰기 + 문자 2개 0.숫자 2개 + 문자 1개\n",
    "data_paths = glob.glob('./result_file/random_1/*.txt')\n",
    "data_paths"
   ]
  },
  {
   "cell_type": "code",
   "execution_count": 3,
   "metadata": {},
   "outputs": [
    {
     "data": {
      "text/plain": [
       "['./result_file/random_1/baseline-nl25-m2-b8-r1-th1.0-lb1.0-sc:step.txt',\n",
       " './result_file/random_1/fixmatch-nl25-m2-b8-r1-th0.95-lb1.0-sc:step.txt',\n",
       " './result_file/random_1/fixmatch-nl25-m2-b8-r1-th0.95-lb0.75-sc:step.txt',\n",
       " './result_file/random_1/fixmatch-nl25-m2-b8-r1-th0.95-lb0.5-sc:step.txt',\n",
       " './result_file/random_1/fixmatch-nl25-m2-b8-r1-th0.98-lb1.0-sc:step.txt',\n",
       " './result_file/random_1/fixmatch-nl25-m2-b8-r1-th0.98-lb0.75-sc:step.txt',\n",
       " './result_file/random_1/fixmatch-nl25-m2-b8-r1-th0.98-lb0.5-sc:step.txt']"
      ]
     },
     "execution_count": 3,
     "metadata": {},
     "output_type": "execute_result"
    }
   ],
   "source": [
    "'''\n",
    "sorted key 속성\n",
    "1. baseline이나 fixmatch냐 기준으로 나눔\n",
    "2. th기준으로 오름차순 정렬\n",
    "3. lb기준으로 내림차순 정렬(내림차순 위해 float형태로 변경)\n",
    "'''\n",
    "data_paths = sorted(data_paths , key = lambda x: (x.split('-')[0],x.split('-')[5], -float((x.split('-')[6]).split('lb')[1])))\n",
    "data_paths"
   ]
  },
  {
   "cell_type": "code",
   "execution_count": 4,
   "metadata": {},
   "outputs": [],
   "source": [
    "# 저장할 디렉토리 생성\n",
    "dir_path = ('./result_file/')\n",
    "dir_path = os.path.join(dir_path,data_paths[0].split('-')[1]) #result_file/lbXX # lb 데이터 개수 별로 따로 저장\n",
    "dir_name = data_paths[0].split('-')[4] #rX - random_seed 별로 따로 저장1\n",
    "if not os.path.isdir(os.path.join(dir_path,dir_name)):\n",
    "    os.makedirs(os.path.join(dir_path,dir_name),exist_ok=True)"
   ]
  },
  {
   "cell_type": "code",
   "execution_count": 5,
   "metadata": {},
   "outputs": [
    {
     "data": {
      "text/plain": [
       "'./result_file/nl25/r1'"
      ]
     },
     "execution_count": 5,
     "metadata": {},
     "output_type": "execute_result"
    }
   ],
   "source": [
    "dir_path = os.path.join(dir_path,dir_name)\n",
    "dir_path"
   ]
  },
  {
   "cell_type": "code",
   "execution_count": 6,
   "metadata": {},
   "outputs": [],
   "source": [
    "for i,data_path in enumerate(data_paths): # 데이터 경로에서 txt파일을 하나씩 불러온다.\n",
    "    with open(data_path,'r') as f: \n",
    "        all_data = f.read() # 전체 txt line을 읽어온다.\n",
    "        all_data = all_data.split('\\n') # 띄어쓰기 기준으로 나눔\n",
    "        metric_line = all_data[-6:-2] # hard coding.. 맨 뒤 mean result 부분\n",
    "        extract = p.findall(str(metric_line))# 정규표현식에 맞는것만 뽑아내서 extract에 저장\n",
    "    with open(os.path.join(dir_path,'result.txt'),'a') as f:\n",
    "        for extract_line in extract:\n",
    "            f.write(str(extract_line)+'\\n')\n",
    "        if i+1 != len(data_paths): # 마지막 txt일때는 추가 X\n",
    "            f.write('\\\\')"
   ]
  },
  {
   "cell_type": "code",
   "execution_count": 10,
   "metadata": {},
   "outputs": [],
   "source": [
    "with open(os.path.join(dir_path,'result.txt'),'r') as f: # 전체를 읽어옴\n",
    "    read_score = f.read()"
   ]
  },
  {
   "cell_type": "code",
   "execution_count": 11,
   "metadata": {},
   "outputs": [
    {
     "data": {
      "text/plain": [
       "['0.8040 (±0.02)\\n0.8196 (±0.02)\\n0.8664 (±0.04)\\n0.7813 (±0.03)\\n0.8110 (±0.03)\\n0.8147 (±0.02)\\n0.7900 (±0.04)\\n0.8500 (±0.03)\\n0.8042 (±0.05)\\n0.8147 (±0.02)\\n0.8253 (±0.03)\\n0.8136 (±0.02)\\n0.8053 (±0.01)\\n',\n",
       " '0.8040 (±0.02)\\n0.8186 (±0.02)\\n0.8722 (±0.01)\\n0.7823 (±0.02)\\n0.8013 (±0.03)\\n0.8151 (±0.02)\\n0.7780 (±0.05)\\n0.8340 (±0.03)\\n0.8333 (±0.04)\\n0.8148 (±0.02)\\n0.8217 (±0.03)\\n0.8071 (±0.02)\\n0.8155 (±0.01)\\n',\n",
       " '0.8040 (±0.02)\\n0.8182 (±0.02)\\n0.8614 (±0.03)\\n0.7800 (±0.02)\\n0.8133 (±0.03)\\n0.8151 (±0.02)\\n0.7800 (±0.05)\\n0.8360 (±0.03)\\n0.8292 (±0.04)\\n0.8149 (±0.02)\\n0.8180 (±0.03)\\n0.8068 (±0.02)\\n0.8198 (±0.01)\\n',\n",
       " '0.8060 (±0.02)\\n0.8213 (±0.02)\\n0.8766 (±0.01)\\n0.7793 (±0.03)\\n0.8080 (±0.03)\\n0.8171 (±0.02)\\n0.7780 (±0.05)\\n0.8380 (±0.03)\\n0.8354 (±0.03)\\n0.8169 (±0.02)\\n0.8232 (±0.03)\\n0.8073 (±0.02)\\n0.8201 (±0.00)\\n',\n",
       " '0.8067 (±0.02)\\n0.8206 (±0.02)\\n0.8660 (±0.03)\\n0.7847 (±0.02)\\n0.8112 (±0.03)\\n0.8178 (±0.02)\\n0.7860 (±0.05)\\n0.8320 (±0.04)\\n0.8354 (±0.03)\\n0.8175 (±0.02)\\n0.8234 (±0.03)\\n0.8074 (±0.03)\\n0.8218 (±0.01)\\n',\n",
       " '0.8080 (±0.02)\\n0.8208 (±0.02)\\n0.8557 (±0.03)\\n0.7895 (±0.02)\\n0.8172 (±0.03)\\n0.8191 (±0.02)\\n0.7960 (±0.04)\\n0.8320 (±0.04)\\n0.8292 (±0.03)\\n0.8190 (±0.02)\\n0.8246 (±0.03)\\n0.8099 (±0.02)\\n0.8223 (±0.01)\\n',\n",
       " '0.8080 (±0.02)\\n0.8209 (±0.02)\\n0.8576 (±0.03)\\n0.7884 (±0.02)\\n0.8168 (±0.03)\\n0.8190 (±0.02)\\n0.7960 (±0.04)\\n0.8340 (±0.04)\\n0.8271 (±0.03)\\n0.8189 (±0.02)\\n0.8255 (±0.03)\\n0.8102 (±0.03)\\n0.8211 (±0.01)\\n']"
      ]
     },
     "execution_count": 11,
     "metadata": {},
     "output_type": "execute_result"
    }
   ],
   "source": [
    "score_txt = read_score.split('\\\\')\n",
    "score_txt"
   ]
  },
  {
   "cell_type": "code",
   "execution_count": 12,
   "metadata": {},
   "outputs": [],
   "source": [
    "with open(os.path.join(dir_path,'result.txt'),'a') as f:\n",
    "    for i in range(13): # score의 개수\n",
    "        for j in range(len(score_txt)):#파일의 개수\n",
    "            f.write(score_txt[j].split('\\n')[i]+'\\t') # 각 파일의 line별로 score 값을 Tab 기준으로 저장\n",
    "        f.write('\\n') #line 별 파일 저장 이후 개행"
   ]
  }
 ],
 "metadata": {
  "kernelspec": {
   "display_name": "aiffel",
   "language": "python",
   "name": "aiffel"
  },
  "language_info": {
   "codemirror_mode": {
    "name": "ipython",
    "version": 3
   },
   "file_extension": ".py",
   "mimetype": "text/x-python",
   "name": "python",
   "nbconvert_exporter": "python",
   "pygments_lexer": "ipython3",
   "version": "3.8.5"
  }
 },
 "nbformat": 4,
 "nbformat_minor": 4
}
