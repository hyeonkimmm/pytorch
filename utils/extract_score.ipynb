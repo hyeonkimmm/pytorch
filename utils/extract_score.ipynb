{
 "cells": [
  {
   "cell_type": "code",
   "execution_count": 29,
   "metadata": {},
   "outputs": [],
   "source": [
    "import glob\n",
    "import os\n",
    "import re"
   ]
  },
  {
   "cell_type": "code",
   "execution_count": 50,
   "metadata": {},
   "outputs": [
    {
     "data": {
      "text/plain": [
       "['/home/aiffel0042/github_project/AVIDNet/results/nl100/fixmatch-nl100-m1-b8-r4-th0.95-lb1.0-sc:step.txt',\n",
       " '/home/aiffel0042/github_project/AVIDNet/results/nl100/fixmatch-nl100-m1-b8-r4-th0.95-lb0.75-sc:step.txt',\n",
       " '/home/aiffel0042/github_project/AVIDNet/results/nl100/fixmatch-nl100-m1-b8-r4-th0.98-lb0.75-sc:step.txt',\n",
       " '/home/aiffel0042/github_project/AVIDNet/results/nl100/baseline-nl100-m1-b8-r4-th1.0-lb1.0-sc:step.txt',\n",
       " '/home/aiffel0042/github_project/AVIDNet/results/nl100/fixmatch-nl100-m1-b8-r4-th0.98-lb0.5-sc:step.txt',\n",
       " '/home/aiffel0042/github_project/AVIDNet/results/nl100/fixmatch-nl100-m1-b8-r4-th0.98-lb1.0-sc:step.txt',\n",
       " '/home/aiffel0042/github_project/AVIDNet/results/nl100/fixmatch-nl100-m1-b8-r4-th0.95-lb0.5-sc:step.txt']"
      ]
     },
     "execution_count": 50,
     "metadata": {},
     "output_type": "execute_result"
    }
   ],
   "source": [
    "p = re.compile('0[.]\\d{4}\\s\\D{2}0[.]\\d{2}\\D') #[0.숫자4개 +띄어쓰기 + 문자 2개 0.숫자 2개 + 문자 1개\n",
    "data_paths = glob.glob('/home/aiffel0042/github_project/AVIDNet/results/nl100/*.txt')\n",
    "data_paths"
   ]
  },
  {
   "cell_type": "code",
   "execution_count": 51,
   "metadata": {},
   "outputs": [
    {
     "data": {
      "text/plain": [
       "['/home/aiffel0042/github_project/AVIDNet/results/nl100/baseline-nl100-m1-b8-r4-th1.0-lb1.0-sc:step.txt',\n",
       " '/home/aiffel0042/github_project/AVIDNet/results/nl100/fixmatch-nl100-m1-b8-r4-th0.95-lb1.0-sc:step.txt',\n",
       " '/home/aiffel0042/github_project/AVIDNet/results/nl100/fixmatch-nl100-m1-b8-r4-th0.95-lb0.75-sc:step.txt',\n",
       " '/home/aiffel0042/github_project/AVIDNet/results/nl100/fixmatch-nl100-m1-b8-r4-th0.95-lb0.5-sc:step.txt',\n",
       " '/home/aiffel0042/github_project/AVIDNet/results/nl100/fixmatch-nl100-m1-b8-r4-th0.98-lb1.0-sc:step.txt',\n",
       " '/home/aiffel0042/github_project/AVIDNet/results/nl100/fixmatch-nl100-m1-b8-r4-th0.98-lb0.75-sc:step.txt',\n",
       " '/home/aiffel0042/github_project/AVIDNet/results/nl100/fixmatch-nl100-m1-b8-r4-th0.98-lb0.5-sc:step.txt']"
      ]
     },
     "execution_count": 51,
     "metadata": {},
     "output_type": "execute_result"
    }
   ],
   "source": [
    "'''\n",
    "sorted key 속성\n",
    "1. baseline이나 fixmatch냐 기준으로 나눔\n",
    "2. th기준으로 오름차순 정렬\n",
    "3. lb기준으로 내림차순 정렬(내림차순 위해 float형태로 변경)\n",
    "'''\n",
    "data_paths = sorted(data_paths , key = lambda x: (x.split('-')[0],x.split('-')[5], -float((x.split('-')[6]).split('lb')[1])))\n",
    "data_paths"
   ]
  },
  {
   "cell_type": "code",
   "execution_count": 52,
   "metadata": {},
   "outputs": [],
   "source": [
    "# 저장할 디렉토리 생성\n",
    "dir_path = ('/home/aiffel0042/github_project/AVIDNet/results')\n",
    "dir_path = os.path.join(dir_path,data_paths[0].split('-')[1]) #result_file/lbXX # lb 데이터 개수 별로 따로 저장\n",
    "dir_name = data_paths[0].split('-')[4] #rX - random_seed 별로 따로 저장1\n",
    "if not os.path.isdir(os.path.join(dir_path,dir_name)):\n",
    "    os.makedirs(os.path.join(dir_path,dir_name),exist_ok=True)"
   ]
  },
  {
   "cell_type": "code",
   "execution_count": 53,
   "metadata": {},
   "outputs": [
    {
     "data": {
      "text/plain": [
       "'/home/aiffel0042/github_project/AVIDNet/results/nl100/r4'"
      ]
     },
     "execution_count": 53,
     "metadata": {},
     "output_type": "execute_result"
    }
   ],
   "source": [
    "dir_path = os.path.join(dir_path,dir_name)\n",
    "dir_path"
   ]
  },
  {
   "cell_type": "code",
   "execution_count": 54,
   "metadata": {},
   "outputs": [],
   "source": [
    "for i,data_path in enumerate(data_paths): # 데이터 경로에서 txt파일을 하나씩 불러온다.\n",
    "    with open(data_path,'r') as f: \n",
    "        all_data = f.read() # 전체 txt line을 읽어온다.\n",
    "        all_data = all_data.split('\\n') # 띄어쓰기 기준으로 나눔\n",
    "        metric_line = all_data[-6:-2] # hard coding.. 맨 뒤 mean result 부분\n",
    "        extract = p.findall(str(metric_line))# 정규표현식에 맞는것만 뽑아내서 extract에 저장\n",
    "    with open(os.path.join(dir_path,'result.txt'),'a') as f:\n",
    "        for extract_line in extract:\n",
    "            f.write(str(extract_line)+'\\n')\n",
    "        if i+1 != len(data_paths): # 마지막 txt일때는 추가 X\n",
    "            f.write('\\\\')"
   ]
  },
  {
   "cell_type": "code",
   "execution_count": 55,
   "metadata": {},
   "outputs": [],
   "source": [
    "with open(os.path.join(dir_path,'result.txt'),'r') as f: # 전체를 읽어옴\n",
    "    read_score = f.read()"
   ]
  },
  {
   "cell_type": "code",
   "execution_count": 56,
   "metadata": {},
   "outputs": [
    {
     "data": {
      "text/plain": [
       "['0.8487 (±0.01)\\n0.8649 (±0.01)\\n0.9274 (±0.02)\\n0.8180 (±0.03)\\n0.8492 (±0.02)\\n0.8601 (±0.01)\\n0.8320 (±0.03)\\n0.8880 (±0.04)\\n0.8604 (±0.03)\\n0.8604 (±0.01)\\n0.8766 (±0.02)\\n0.8505 (±0.01)\\n0.8542 (±0.00)\\n',\n",
       " '0.8433 (±0.01)\\n0.8598 (±0.01)\\n0.9246 (±0.02)\\n0.8227 (±0.03)\\n0.8319 (±0.02)\\n0.8551 (±0.01)\\n0.7980 (±0.06)\\n0.8820 (±0.03)\\n0.8854 (±0.02)\\n0.8545 (±0.01)\\n0.8551 (±0.03)\\n0.8507 (±0.02)\\n0.8576 (±0.01)\\n',\n",
       " '0.8493 (±0.00)\\n0.8625 (±0.00)\\n0.8978 (±0.03)\\n0.8428 (±0.03)\\n0.8469 (±0.02)\\n0.8606 (±0.00)\\n0.8680 (±0.02)\\n0.8660 (±0.04)\\n0.8479 (±0.02)\\n0.8608 (±0.00)\\n0.8822 (±0.01)\\n0.8531 (±0.01)\\n0.8471 (±0.02)\\n',\n",
       " '0.8540 (±0.01)\\n0.8689 (±0.01)\\n0.9048 (±0.04)\\n0.8510 (±0.03)\\n0.8510 (±0.03)\\n0.8654 (±0.01)\\n0.8620 (±0.06)\\n0.8780 (±0.03)\\n0.8563 (±0.03)\\n0.8653 (±0.01)\\n0.8799 (±0.02)\\n0.8633 (±0.01)\\n0.8528 (±0.02)\\n',\n",
       " '0.8520 (±0.01)\\n0.8658 (±0.01)\\n0.9091 (±0.03)\\n0.8617 (±0.03)\\n0.8265 (±0.03)\\n0.8634 (±0.01)\\n0.8640 (±0.03)\\n0.8680 (±0.03)\\n0.8583 (±0.02)\\n0.8635 (±0.01)\\n0.8852 (±0.01)\\n0.8637 (±0.01)\\n0.8418 (±0.02)\\n',\n",
       " '0.8547 (±0.02)\\n0.8678 (±0.02)\\n0.8854 (±0.02)\\n0.8620 (±0.05)\\n0.8560 (±0.02)\\n0.8658 (±0.02)\\n0.8940 (±0.05)\\n0.8680 (±0.04)\\n0.8354 (±0.04)\\n0.8657 (±0.02)\\n0.8890 (±0.02)\\n0.8631 (±0.01)\\n0.8448 (±0.02)\\n',\n",
       " '0.8527 (±0.02)\\n0.8683 (±0.01)\\n0.9075 (±0.03)\\n0.8348 (±0.05)\\n0.8627 (±0.02)\\n0.8636 (±0.02)\\n0.8740 (±0.06)\\n0.8940 (±0.04)\\n0.8229 (±0.03)\\n0.8637 (±0.02)\\n0.8882 (±0.02)\\n0.8609 (±0.01)\\n0.8420 (±0.02)\\n']"
      ]
     },
     "execution_count": 56,
     "metadata": {},
     "output_type": "execute_result"
    }
   ],
   "source": [
    "score_txt = read_score.split('\\\\')\n",
    "score_txt"
   ]
  },
  {
   "cell_type": "code",
   "execution_count": 57,
   "metadata": {},
   "outputs": [],
   "source": [
    "with open(os.path.join(dir_path,'result.txt'),'a') as f:\n",
    "    for i in range(13): # score의 개수\n",
    "        for j in range(len(score_txt)):#파일의 개수\n",
    "            f.write(score_txt[j].split('\\n')[i]+'\\t') # 각 파일의 line별로 score 값을 Tab 기준으로 저장\n",
    "        f.write('\\n') #line 별 파일 저장 이후 개행"
   ]
  }
 ],
 "metadata": {
  "kernelspec": {
   "display_name": "aiffel",
   "language": "python",
   "name": "aiffel"
  },
  "language_info": {
   "codemirror_mode": {
    "name": "ipython",
    "version": 3
   },
   "file_extension": ".py",
   "mimetype": "text/x-python",
   "name": "python",
   "nbconvert_exporter": "python",
   "pygments_lexer": "ipython3",
   "version": "3.8.5"
  }
 },
 "nbformat": 4,
 "nbformat_minor": 4
}
