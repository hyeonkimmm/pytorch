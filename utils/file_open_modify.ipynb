{
 "cells": [
  {
   "cell_type": "code",
   "execution_count": 1,
   "metadata": {},
   "outputs": [],
   "source": [
    "import glob\n",
    "import os\n",
    "import numpy as np"
   ]
  },
  {
   "cell_type": "code",
   "execution_count": 3,
   "metadata": {},
   "outputs": [
    {
     "data": {
      "text/plain": [
       "['/home/aiffel0042/covid_data/lb25_mu1_data/1']"
      ]
     },
     "execution_count": 3,
     "metadata": {},
     "output_type": "execute_result"
    }
   ],
   "source": [
    "data_paths = glob.glob('/home/aiffel0042/covid_data/lb25_mu1_data/*')\n",
    "data_paths"
   ]
  },
  {
   "cell_type": "code",
   "execution_count": 4,
   "metadata": {},
   "outputs": [],
   "source": [
    "for data_path in data_paths:\n",
    "    data_dir = glob.glob(os.path.join(data_path,'*.txt'))\n",
    "    for data in data_dir:\n",
    "        if data.split('/')[-1] == 'test.txt':\n",
    "            with open(data,'r') as f:\n",
    "                line_data = f.read()\n",
    "                replace_data = line_data.replace('/media/aiffel0042/SSD256/temp/AVIDNet/data/CXR/ori/test'\n",
    "                                             ,'/home/aiffel0042/covid_data/CXR/val')\n",
    "            with open(data, 'w') as f:\n",
    "                f.write(replace_data)\n",
    "                \n",
    "        with open(data,'r') as f:\n",
    "            line_data = f.read()\n",
    "            replace_data = line_data.replace('/media/aiffel0042/SSD256/temp/AVIDNet/data/CXR/ori/'\n",
    "                                             ,'/home/aiffel0042/covid_data/CXR/')\n",
    "        with open(data, 'w') as f:\n",
    "            f.write(replace_data)"
   ]
  },
  {
   "cell_type": "code",
   "execution_count": 27,
   "metadata": {},
   "outputs": [],
   "source": [
    "for data in data_dir:\n",
    "    with open(data,'r') as f:\n",
    "        line_data = f.read()\n",
    "    replace_data = line_data.replace('/mnt/e/00.dataset/CXR/images/','/home/aiffel0042/covid_data/CXR/')\n",
    "    with open(data, 'w') as f:\n",
    "        f.write(replace_data)"
   ]
  },
  {
   "cell_type": "code",
   "execution_count": 6,
   "metadata": {},
   "outputs": [
    {
     "data": {
      "text/plain": [
       "list"
      ]
     },
     "execution_count": 6,
     "metadata": {},
     "output_type": "execute_result"
    }
   ],
   "source": [
    "type(data_dir)"
   ]
  },
  {
   "cell_type": "code",
   "execution_count": 18,
   "metadata": {},
   "outputs": [],
   "source": [
    "with open(data_dir[0],'r') as f:\n",
    "    test = f.read()"
   ]
  },
  {
   "cell_type": "code",
   "execution_count": 23,
   "metadata": {},
   "outputs": [
    {
     "data": {
      "text/plain": [
       "'/home/aiffel0042/covid_data/CXR/train/pneumonia/7a477b7b-f2d2-40ac-a20d-661887491d6b.png\\n/home/aiffel0042/covid_data/CXR/train/pneumonia/a13bf9b7-ea61-4bff-96dc-e6c716638461.png\\n/home/aiffel0042/covid_data/CXR/train/pneumonia/27532c20-7a0b-45b2-b229-496126a327ad.png\\n/home/aiffel0042/covid_data/CXR/train/normal/3cb60780-aa4c-4b95-91c1-0c1d7911ff40.png\\n/home/aiffel0042/covid_data/CXR/train/normal/e7b76c05-b373-4974-9a95-df7b8bedd079.png\\n/home/aiffel0042/covid_data/CXR/train/normal/35b74418-4c61-42dd-932d-94021f9a75f9.png\\n/home/aiffel0042/covid_data/CXR/train/normal/bba5faff-f2f2-49c4-b5da-2d881320de34.png\\n/home/aiffel0042/covid_data/CXR/train/pneumonia/e5274cde-aaaa-4851-b306-a9293e8222ec.png\\n/home/aiffel0042/covid_data/CXR/train/covid-19/DX.1.2.840.113564.1722810162.20200405142816863980.1203801020003.png\\n/home/aiffel0042/covid_data/CXR/train/normal/f5b6bfda-91a9-49e3-8d26-1a71d774e515.png\\n/home/aiffel0042/covid_data/CXR/train/pneumonia/0a46eca3-e577-4c7f-a782-9d54754bf096.png\\n/home/aiffel0042/covid_data/CXR/train/normal/8061da34-c7a5-46a4-9534-632a036a2083.png\\n/home/aiffel0042/covid_data/CXR/train/pneumonia/7bf09d53-83de-418a-ac0f-1c29a9dcf6fe.png\\n/home/aiffel0042/covid_data/CXR/train/normal/edab6621-2221-4ee0-9197-c9eeec201cfc.png\\n/home/aiffel0042/covid_data/CXR/train/pneumonia/a8d39eb7-7495-410b-8c23-0723b5245dae.png\\n/home/aiffel0042/covid_data/CXR/train/pneumonia/a7cc220e-bef4-4d27-a921-7773ebef1282.png\\n/home/aiffel0042/covid_data/CXR/train/normal/e43aae06-f1d4-4d81-94e0-a41518a24f3f.png\\n/home/aiffel0042/covid_data/CXR/train/pneumonia/b7df240d-953d-4cc7-9ff7-c35611c348e3.png\\n/home/aiffel0042/covid_data/CXR/train/covid-19/radiol.2020201160.fig6b.jpeg\\n/home/aiffel0042/covid_data/CXR/train/covid-19/10.1016-slash-j.chest.2020.04.024.png\\n/home/aiffel0042/covid_data/CXR/train/normal/ae34e246-4d09-4cd1-89c9-b3107a1553dc.png\\n/home/aiffel0042/covid_data/CXR/train/covid-19/90070cbc.jpg\\n/home/aiffel0042/covid_data/CXR/train/normal/dc486475-0698-4f27-8b21-5a9eaa0e157f.png\\n/home/aiffel0042/covid_data/CXR/train/normal/bace143d-57f3-4514-8fc2-a69a9e7e11e0.png\\n/home/aiffel0042/covid_data/CXR/train/normal/0ccb9c63-16ca-4bc3-b2ac-b7fd85a845dd.png\\n/home/aiffel0042/covid_data/CXR/train/normal/75f8886e-c4df-42c9-b0d4-3fea3dc4858b.png\\n/home/aiffel0042/covid_data/CXR/train/normal/aec849c0-4ef4-4d4e-9d09-573f1ce4cbd1.png\\n/home/aiffel0042/covid_data/CXR/train/normal/b15bc724-ed99-47a1-b59c-ccd26a41d372.png\\n/home/aiffel0042/covid_data/CXR/train/covid-19/covid-19-caso-70-1-PA.jpg\\n/home/aiffel0042/covid_data/CXR/train/covid-19/7-fatal-covid19.jpg\\n/home/aiffel0042/covid_data/CXR/train/pneumonia/87bea6bd-4a01-4fad-8621-8e641e09dcad.png\\n/home/aiffel0042/covid_data/CXR/train/normal/0f5d1591-5e8d-4328-9ba2-0d99deb8ad57.png\\n/home/aiffel0042/covid_data/CXR/train/pneumonia/a93bed75-231d-47cc-a21e-9a70c0d072b2.png\\n/home/aiffel0042/covid_data/CXR/train/covid-19/auntminnie-c-2020_01_28_23_51_6665_2020_01_28_Vietnam_coronavirus.jpeg\\n/home/aiffel0042/covid_data/CXR/train/pneumonia/74ed4f73-33e6-4607-8842-57aec6c318c6.png\\n/home/aiffel0042/covid_data/CXR/train/normal/ba40ac09-3350-40f4-86d7-d0116a5ce26d.png\\n/home/aiffel0042/covid_data/CXR/train/pneumonia/e97da81f-c608-49cd-acf5-4ec961861bbd.png\\n/home/aiffel0042/covid_data/CXR/train/pneumonia/6ad6525d-5225-4623-9f5a-65816cc3436f.png\\n/home/aiffel0042/covid_data/CXR/train/covid-19/3248cc61.jpg\\n/home/aiffel0042/covid_data/CXR/train/normal/fcc70304-c7bf-47ce-85cc-0754706b1a91.png\\n/home/aiffel0042/covid_data/CXR/train/pneumonia/92d7540d-db17-4fa8-814a-3d719157928c.png\\n/home/aiffel0042/covid_data/CXR/train/pneumonia/aad5a7ee-f327-4444-9a29-f279d3832286.png\\n/home/aiffel0042/covid_data/CXR/train/covid-19/article_river_e4d185c06e3511eaa2321d8ab357a1de-c1mn.png\\n/home/aiffel0042/covid_data/CXR/train/covid-19/ryct.2020003.fig2-c.png\\n/home/aiffel0042/covid_data/CXR/train/pneumonia/dcc879b2-a7f1-4526-95af-e87539dc4925.png\\n/home/aiffel0042/covid_data/CXR/train/normal/7951d339-63c7-4eab-8720-6a50f60a0e38.png\\n/home/aiffel0042/covid_data/CXR/train/covid-19/11547_2020_1203_Fig1_HTML-c.png\\n/home/aiffel0042/covid_data/CXR/train/pneumonia/a3bcdd23-510f-4f18-876e-69bc9cf62ada.png\\n/home/aiffel0042/covid_data/CXR/train/normal/5fa666d0-e617-46a3-b46b-1e7dfe13cac9.png\\n/home/aiffel0042/covid_data/CXR/train/pneumonia/58508fc2-0fd8-4c2a-87ee-a3bdda7cd9ff.png\\n/home/aiffel0042/covid_data/CXR/train/covid-19/21982772.jpg\\n/home/aiffel0042/covid_data/CXR/train/pneumonia/cf4acaef-abef-4341-a4f2-e1689d804d3e.png\\n/home/aiffel0042/covid_data/CXR/train/pneumonia/153d2c23-546a-4fc4-93bc-7873e24d50fa.png\\n/home/aiffel0042/covid_data/CXR/train/normal/4f74bcc6-ba60-4ce3-bb99-d4c0cf024c4a.png\\n/home/aiffel0042/covid_data/CXR/train/pneumonia/73286fe9-2e42-4a75-b071-a4c2173672a4.png\\n/home/aiffel0042/covid_data/CXR/train/pneumonia/cbce283e-91f9-4418-90e7-9aafcd017e33.png\\n/home/aiffel0042/covid_data/CXR/train/pneumonia/e13739bf-ff9c-44eb-8839-fa8c61bf8a14.png\\n/home/aiffel0042/covid_data/CXR/train/pneumonia/276e7c3c-7875-41ce-93e6-0d1834a403a0.png\\n/home/aiffel0042/covid_data/CXR/train/pneumonia/8d0e17f0-014e-4e69-a2f5-bc08ef148dfd.png\\n/home/aiffel0042/covid_data/CXR/train/pneumonia/b27ce840-3616-4cec-8499-fa7dc760c387.png\\n/home/aiffel0042/covid_data/CXR/train/pneumonia/686f3f50-0432-4f11-9bd8-63dd369af840.png\\n/home/aiffel0042/covid_data/CXR/train/pneumonia/24cb4fd3-7f4b-4bc7-a9c1-24be6c6e09de.png\\n/home/aiffel0042/covid_data/CXR/train/pneumonia/9402fbff-b5cd-4372-a203-074a2f7d8bd1.png\\n/home/aiffel0042/covid_data/CXR/train/pneumonia/3f283405-31fa-4865-acbc-0be1e297546d.png\\n/home/aiffel0042/covid_data/CXR/train/normal/ad04815f-f706-4323-bc71-a99cf971db8a.png\\n/home/aiffel0042/covid_data/CXR/train/normal/c61e57d7-952d-49ba-9bb6-da27b034478a.png\\n/home/aiffel0042/covid_data/CXR/train/normal/08ae6c0b-d044-4de2-a410-b3cf8dc65868.png\\n/home/aiffel0042/covid_data/CXR/train/normal/4e23f936-587e-43f8-8c09-ec902e080a52.png\\n/home/aiffel0042/covid_data/CXR/train/pneumonia/0b8e881f-67bc-4021-a02c-0087233e43aa.png\\n/home/aiffel0042/covid_data/CXR/train/pneumonia/911027e5-82d0-44f8-af40-de9049922430.png\\n/home/aiffel0042/covid_data/CXR/train/covid-19/f44373474437c99b2740062c914438_jumbo.jpeg\\n/home/aiffel0042/covid_data/CXR/train/pneumonia/f02fe6d5-c4ac-4c83-9d9d-5274eb3488d5.png\\n/home/aiffel0042/covid_data/CXR/train/pneumonia/949d29ea-c8d1-4627-aa46-65aca7112946.png\\n/home/aiffel0042/covid_data/CXR/train/normal/65139428-111f-4e09-82a6-14fafe18cbbe.png\\n/home/aiffel0042/covid_data/CXR/train/pneumonia/ba16fe59-6c9f-42ed-8138-ae8dc68c99e9.png\\n/home/aiffel0042/covid_data/CXR/train/normal/a5a28c3b-80c7-4741-a6d8-642329788418.png\\n/home/aiffel0042/covid_data/CXR/train/normal/5aeb9a45-0897-43db-bceb-fa36b87c4a3a.png\\n/home/aiffel0042/covid_data/CXR/train/normal/9f12306f-aeae-4898-b99a-2b15be3e81d7.png\\n/home/aiffel0042/covid_data/CXR/train/normal/afbd53b1-ea57-4201-9690-9e2bba0002ae.png\\n/home/aiffel0042/covid_data/CXR/train/pneumonia/094eed38-9c5b-4042-936d-344ccec4c3cc.png\\n/home/aiffel0042/covid_data/CXR/train/covid-19/527321ee.jpg\\n/home/aiffel0042/covid_data/CXR/train/normal/cc00554f-d8eb-46fb-94f1-ddad348bcdf4.png\\n/home/aiffel0042/covid_data/CXR/train/normal/9b1923c9-e84c-446f-aa50-f0c6bc673954.png\\n/home/aiffel0042/covid_data/CXR/train/pneumonia/3c1fdc6b-2e9a-46f7-8dbd-28d4155f9b93.png\\n/home/aiffel0042/covid_data/CXR/train/covid-19/1-s2.0-S2214250920300706-gr2_lrg.jpg\\n/home/aiffel0042/covid_data/CXR/train/pneumonia/b36ddceb-a4c3-4f3e-9b95-cac57da3d0b9.png\\n/home/aiffel0042/covid_data/CXR/train/pneumonia/2230de59-e044-4b6d-95c0-1154c0cbb802.png\\n/home/aiffel0042/covid_data/CXR/train/normal/ffc9e552-ca53-43a8-a156-b0f97f0d40f3.png\\n/home/aiffel0042/covid_data/CXR/train/pneumonia/25e49cde-cdd9-47ba-9e3c-bc8406433240.png\\n/home/aiffel0042/covid_data/CXR/train/covid-19/887db78f.jpg\\n/home/aiffel0042/covid_data/CXR/train/pneumonia/b3cb6b71-3e7b-4287-a4e1-49a443d31215.png\\n/home/aiffel0042/covid_data/CXR/train/pneumonia/b8a633b3-b2fa-4e17-be54-faf0aba4c903.png\\n/home/aiffel0042/covid_data/CXR/train/pneumonia/e4f130d7-0a85-4d4d-a989-936db8cbf598.png\\n/home/aiffel0042/covid_data/CXR/train/pneumonia/9cbf0728-d245-4782-8aca-c25c5e8e158f.png\\n/home/aiffel0042/covid_data/CXR/train/pneumonia/82764af4-85dc-4512-bdfe-d9e9f66e0fc4.png\\n/home/aiffel0042/covid_data/CXR/train/normal/ca885dac-ceb4-4768-927f-260f7dee121a.png\\n/home/aiffel0042/covid_data/CXR/train/pneumonia/b9250558-2525-459d-894d-65355b4cf432.png\\n/home/aiffel0042/covid_data/CXR/train/normal/bfe24f55-140f-4a6a-a8ed-d0a188316c03.png\\n/home/aiffel0042/covid_data/CXR/train/pneumonia/31764d54-ea3b-434f-bae2-8c579ed13799.png\\n/home/aiffel0042/covid_data/CXR/train/normal/eea1c2f6-4bc0-433a-abc9-5f97cdc1b0ac.png\\n/home/aiffel0042/covid_data/CXR/train/normal/dbaf93da-7dca-444b-9df2-55314829595e.png\\n/home/aiffel0042/covid_data/CXR/train/pneumonia/738524e2-9e98-43cb-8c56-b480a2a0ae2f.png\\n/home/aiffel0042/covid_data/CXR/train/pneumonia/b0b3ee88-fc81-4a0a-acdb-d8c030fac137.png\\n/home/aiffel0042/covid_data/CXR/train/pneumonia/ae76e24d-14d2-4937-aaae-3a2b0aa0e2c6.png\\n/home/aiffel0042/covid_data/CXR/train/pneumonia/43f6b995-26f1-4796-8719-4fe008c7536d.png\\n/home/aiffel0042/covid_data/CXR/train/normal/9f434de4-5c5b-48c2-828f-8f04a7c51739.png\\n/home/aiffel0042/covid_data/CXR/train/normal/8d33c03b-b7a1-4e67-8924-2854f2112d24.png\\n/home/aiffel0042/covid_data/CXR/train/normal/df6636e4-de16-4430-8d5a-269998f0ee08.png\\n/home/aiffel0042/covid_data/CXR/train/normal/8214be18-4b1c-4042-a3f9-c1929c516ffb.png\\n/home/aiffel0042/covid_data/CXR/train/covid-19/a1fec23b293dfe7876660cb7acce43_jumbo.jpeg\\n/home/aiffel0042/covid_data/CXR/train/normal/eb81f32a-2e1b-4552-9ef6-98055b4ac687.png\\n/home/aiffel0042/covid_data/CXR/train/pneumonia/f8cadc7e-6554-4967-89f3-d22e7bce757b.png\\n/home/aiffel0042/covid_data/CXR/train/normal/c3713d1a-6d8e-47c8-ae09-6ae3a5cfc72d.png\\n/home/aiffel0042/covid_data/CXR/train/covid-19/a2eba651.jpg\\n/home/aiffel0042/covid_data/CXR/train/pneumonia/b2dca982-bfb0-4201-9a43-255cb277682d.png\\n/home/aiffel0042/covid_data/CXR/train/covid-19/5acb8ac5.jpg\\n/home/aiffel0042/covid_data/CXR/train/normal/98f56f5b-8e5a-4e2f-b448-ab541317d660.png\\n/home/aiffel0042/covid_data/CXR/train/pneumonia/3a483825-5dc2-4318-b0a6-7378f155df2c.png\\n/home/aiffel0042/covid_data/CXR/train/normal/2abbf0a2-dab3-4c1a-a93e-764b15cc04dc.png\\n/home/aiffel0042/covid_data/CXR/train/pneumonia/0a7162ad-b2bc-4132-b15a-7fdc80957618.png\\n/home/aiffel0042/covid_data/CXR/train/pneumonia/9d93caf3-5af3-48a0-9a6e-23bec560da26.png\\n/home/aiffel0042/covid_data/CXR/train/covid-19/41591_2020_819_Fig1_HTML.webp-day10.png\\n/home/aiffel0042/covid_data/CXR/train/normal/dc5986a8-e66a-45e9-99b4-695454b82fc5.png\\n/home/aiffel0042/covid_data/CXR/train/pneumonia/722ad9c3-919a-4c08-bb67-cafd603ba754.png\\n/home/aiffel0042/covid_data/CXR/train/normal/7610cabc-b892-4a7d-9a7d-802e514fc685.png\\n/home/aiffel0042/covid_data/CXR/train/normal/18630633-df6f-4b2c-b3df-23704d84f5be.png\\n/home/aiffel0042/covid_data/CXR/train/covid-19/16669_3_1.jpeg\\n/home/aiffel0042/covid_data/CXR/train/normal/48ec3f92-0ffb-4501-b389-86c9084134c0.png\\n/home/aiffel0042/covid_data/CXR/train/covid-19/296_2020_4584_Fig2_HTML-a.png\\n/home/aiffel0042/covid_data/CXR/train/normal/f0231db4-b1c4-4e58-9d11-2dae6e1473d9.png\\n/home/aiffel0042/covid_data/CXR/train/covid-19/radiol.2020201160.fig2b.jpeg\\n/home/aiffel0042/covid_data/CXR/train/pneumonia/6fd45bf7-e07a-445e-b853-f871d9281630.png\\n/home/aiffel0042/covid_data/CXR/train/pneumonia/9131bb85-6251-4f0e-9ccb-4a4189f84087.png\\n/home/aiffel0042/covid_data/CXR/train/covid-19/nejmoa2001191_f3-PA.jpeg\\n/home/aiffel0042/covid_data/CXR/train/pneumonia/bcbf06b4-ed44-48aa-a498-a7147c063d4d.png\\n/home/aiffel0042/covid_data/CXR/train/covid-19/kjr-21-e24-g003-l-a.jpg\\n/home/aiffel0042/covid_data/CXR/train/pneumonia/e9ea9123-3eab-4d60-973d-bfca20b6e054.png\\n/home/aiffel0042/covid_data/CXR/train/normal/78fe9142-9b8a-4200-9b2d-129a4e30e7ec.png\\n/home/aiffel0042/covid_data/CXR/train/normal/c8ad32ab-daa1-4ab6-843f-d9bd4fe81400.png\\n/home/aiffel0042/covid_data/CXR/train/normal/7251ea5b-92d5-4474-8f1c-462c204923bf.png\\n/home/aiffel0042/covid_data/CXR/train/covid-19/ryct.2020003.fig2-b.png\\n/home/aiffel0042/covid_data/CXR/train/normal/77158193-070f-420c-aa5a-1610601ef4ce.png\\n/home/aiffel0042/covid_data/CXR/train/normal/c5dfc1a7-4669-42ce-af9f-62c3d8322049.png\\n/home/aiffel0042/covid_data/CXR/train/pneumonia/6f3d76ce-9c4e-4e4c-b344-776d764e1be8.png\\n/home/aiffel0042/covid_data/CXR/train/normal/2f1c6087-6bc6-41c9-8433-c55203f72963.png\\n/home/aiffel0042/covid_data/CXR/train/covid-19/tpmd200203f2-c.png\\n/home/aiffel0042/covid_data/CXR/train/normal/72fbc26e-3b3e-4a16-b10b-b84bd09790ff.png\\n/home/aiffel0042/covid_data/CXR/train/pneumonia/6a66b5bb-54f3-46b0-9675-9d137cb3f895.png\\n/home/aiffel0042/covid_data/CXR/train/pneumonia/797eafe0-2b9a-463f-ab2f-446fc39384e1.png\\n/home/aiffel0042/covid_data/CXR/train/pneumonia/47f08678-452a-458c-9933-ccd0f1126f20.png\\n'"
      ]
     },
     "execution_count": 23,
     "metadata": {},
     "output_type": "execute_result"
    }
   ],
   "source": [
    "replace_test = test.replace('/mnt/e/00.dataset/CXR/images/','/home/aiffel0042/covid_data/CXR/')\n",
    "replace_test"
   ]
  },
  {
   "cell_type": "code",
   "execution_count": 24,
   "metadata": {},
   "outputs": [],
   "source": [
    "with open('test.txt','w')as f:\n",
    "    f.write(replace_test)"
   ]
  },
  {
   "cell_type": "code",
   "execution_count": null,
   "metadata": {},
   "outputs": [],
   "source": []
  }
 ],
 "metadata": {
  "kernelspec": {
   "display_name": "Python 3",
   "language": "python",
   "name": "python3"
  },
  "language_info": {
   "codemirror_mode": {
    "name": "ipython",
    "version": 3
   },
   "file_extension": ".py",
   "mimetype": "text/x-python",
   "name": "python",
   "nbconvert_exporter": "python",
   "pygments_lexer": "ipython3",
   "version": "3.8.5"
  }
 },
 "nbformat": 4,
 "nbformat_minor": 4
}
