{
 "cells": [
  {
   "cell_type": "markdown",
   "metadata": {},
   "source": [
    "# Tensor의 선언\n",
    "torch.Tensor(크기)\n",
    "\n",
    "위 함수를 사용하면 초기화 되지 않은 Tensor를 생성할 수 있습니다."
   ]
  },
  {
   "cell_type": "code",
   "execution_count": 9,
   "metadata": {},
   "outputs": [
    {
     "data": {
      "text/plain": [
       "tensor([-5.2541e+30,  3.0931e-41, -5.2514e+30])"
      ]
     },
     "execution_count": 9,
     "metadata": {},
     "output_type": "execute_result"
    }
   ],
   "source": [
    "import torch\n",
    "x=torch.Tensor(3)\n",
    "x"
   ]
  },
  {
   "cell_type": "code",
   "execution_count": 10,
   "metadata": {},
   "outputs": [
    {
     "data": {
      "text/plain": [
       "tensor([[4.0396e-34, 4.5640e-41, 4.0396e-34],\n",
       "        [4.5640e-41, 4.4842e-44, 0.0000e+00],\n",
       "        [4.4842e-44, 0.0000e+00, 0.0000e+00]])"
      ]
     },
     "execution_count": 10,
     "metadata": {},
     "output_type": "execute_result"
    }
   ],
   "source": [
    "x2=torch.Tensor(3,3)\n",
    "x2"
   ]
  },
  {
   "cell_type": "markdown",
   "metadata": {},
   "source": [
    "Tensor의 random 선언\n",
    "\n",
    "a = torch.rand(3,3)    \n",
    "rand를 통한 a는 0에서 1사이의 uniform distribution random 값으로 선언\n",
    "\n",
    "a = torch.randn(3,3)    \n",
    "randn을 통한 a는 평균이 0이고 분산이 1인 normal distribution random값으로 선언"
   ]
  },
  {
   "cell_type": "markdown",
   "metadata": {},
   "source": [
    "## Numpy 에서  Tensor로"
   ]
  },
  {
   "cell_type": "code",
   "execution_count": 11,
   "metadata": {},
   "outputs": [
    {
     "name": "stdout",
     "output_type": "stream",
     "text": [
      "[1 2 3 4]\n",
      "tensor([1., 2., 3., 4.])\n"
     ]
    }
   ],
   "source": [
    "import numpy as np\n",
    "a = np.array([1,2,3,4])\n",
    "print(a)\n",
    "b=torch.Tensor(a)\n",
    "print(b)"
   ]
  },
  {
   "cell_type": "markdown",
   "metadata": {},
   "source": [
    "## Tensor에서 Numpy로"
   ]
  },
  {
   "cell_type": "code",
   "execution_count": 13,
   "metadata": {},
   "outputs": [
    {
     "name": "stdout",
     "output_type": "stream",
     "text": [
      "tensor([[0.8946, 0.5471, 0.3681],\n",
      "        [0.6538, 0.9443, 0.9298],\n",
      "        [0.9285, 0.9125, 0.7451]])\n",
      "[[0.8946213  0.5470751  0.36805457]\n",
      " [0.65379745 0.9443485  0.9298206 ]\n",
      " [0.9284621  0.9125066  0.7451272 ]]\n"
     ]
    }
   ],
   "source": [
    "a = torch.rand(3,3)\n",
    "print(a)\n",
    "b = a.numpy()\n",
    "print(b)"
   ]
  },
  {
   "cell_type": "markdown",
   "metadata": {},
   "source": [
    "## Tensor의 형태 변환(view)"
   ]
  },
  {
   "cell_type": "code",
   "execution_count": 15,
   "metadata": {},
   "outputs": [
    {
     "name": "stdout",
     "output_type": "stream",
     "text": [
      "tensor([[0.8955, 0.1011, 0.5072],\n",
      "        [0.0241, 0.8527, 0.6405],\n",
      "        [0.5084, 0.7321, 0.0048]])\n"
     ]
    },
    {
     "data": {
      "text/plain": [
       "tensor([[[[0.8955, 0.1011, 0.5072],\n",
       "          [0.0241, 0.8527, 0.6405],\n",
       "          [0.5084, 0.7321, 0.0048]]]])"
      ]
     },
     "execution_count": 15,
     "metadata": {},
     "output_type": "execute_result"
    }
   ],
   "source": [
    "a = torch.rand(3,3)\n",
    "print(a)\n",
    "a = a.view(1,1,3,3)\n",
    "a"
   ]
  },
  {
   "cell_type": "markdown",
   "metadata": {},
   "source": [
    "## Tensor 합치기\n",
    "\n",
    "torch.cat((Tensor_A, Tensor_B), dim)\n",
    "\n",
    "Tensor_A 와 Tensor_B를 dim에 맞춰서 합쳐 줍니다."
   ]
  },
  {
   "cell_type": "code",
   "execution_count": 17,
   "metadata": {},
   "outputs": [
    {
     "data": {
      "text/plain": [
       "tensor([[[[-0.6066,  0.6303,  0.2503],\n",
       "          [ 0.4859,  0.7599,  0.0350],\n",
       "          [-0.1078, -0.9628,  2.0198]]],\n",
       "\n",
       "\n",
       "        [[[-0.0389,  0.7441,  0.5288],\n",
       "          [ 1.6967,  0.5889,  2.7970],\n",
       "          [-0.1318,  0.7324, -0.6400]]]])"
      ]
     },
     "execution_count": 17,
     "metadata": {},
     "output_type": "execute_result"
    }
   ],
   "source": [
    "a = torch.randn(1,1,3,3)\n",
    "b = torch.randn(1,1,3,3)\n",
    "c = torch.cat((a,b),0)\n",
    "c"
   ]
  },
  {
   "cell_type": "markdown",
   "metadata": {},
   "source": [
    "## Tensor 계산을 GPU로"
   ]
  },
  {
   "cell_type": "code",
   "execution_count": 18,
   "metadata": {},
   "outputs": [
    {
     "data": {
      "text/plain": [
       "tensor([[1.0101, 0.5979, 1.4648],\n",
       "        [1.4333, 0.8605, 0.6833],\n",
       "        [1.2005, 1.2691, 1.8315]], device='cuda:0')"
      ]
     },
     "execution_count": 18,
     "metadata": {},
     "output_type": "execute_result"
    }
   ],
   "source": [
    "x = torch.rand(3,3)\n",
    "y = torch.rand(3,3)\n",
    "if torch.cuda.is_available():\n",
    "    x=x.cuda()\n",
    "    y=y.cuda()\n",
    "    sum=x+y\n",
    "sum"
   ]
  },
  {
   "cell_type": "markdown",
   "metadata": {},
   "source": [
    "## 그 외"
   ]
  },
  {
   "cell_type": "code",
   "execution_count": 19,
   "metadata": {},
   "outputs": [
    {
     "name": "stdout",
     "output_type": "stream",
     "text": [
      "tensor([[0.9737, 0.6029, 0.0629],\n",
      "        [0.5815, 0.5424, 0.1903],\n",
      "        [0.7287, 0.8486, 0.9953]])\n",
      "tensor(0.6140)\n"
     ]
    },
    {
     "data": {
      "text/plain": [
       "tensor(5.5261)"
      ]
     },
     "execution_count": 19,
     "metadata": {},
     "output_type": "execute_result"
    }
   ],
   "source": [
    "a = torch.rand(3,3)\n",
    "print(a)\n",
    "print(a.mean()) # Tensor a의 평균\n",
    "a.sum() # Tensor a의 원소 합"
   ]
  },
  {
   "cell_type": "markdown",
   "metadata": {},
   "source": [
    "## 다양한 함수\n",
    "http://pytorch.org/docs/master/tensors.html"
   ]
  }
 ],
 "metadata": {
  "kernelspec": {
   "display_name": "aiffel",
   "language": "python",
   "name": "aiffel"
  },
  "language_info": {
   "codemirror_mode": {
    "name": "ipython",
    "version": 3
   },
   "file_extension": ".py",
   "mimetype": "text/x-python",
   "name": "python",
   "nbconvert_exporter": "python",
   "pygments_lexer": "ipython3",
   "version": "3.8.5"
  }
 },
 "nbformat": 4,
 "nbformat_minor": 4
}
